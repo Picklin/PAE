{
  "nbformat": 4,
  "nbformat_minor": 0,
  "metadata": {
    "colab": {
      "provenance": [],
      "include_colab_link": true
    },
    "kernelspec": {
      "name": "python3",
      "display_name": "Python 3"
    },
    "language_info": {
      "name": "python"
    }
  },
  "cells": [
    {
      "cell_type": "markdown",
      "metadata": {
        "id": "view-in-github",
        "colab_type": "text"
      },
      "source": [
        "<a href=\"https://colab.research.google.com/github/Picklin/PAE/blob/main/Robot_Music%C3%B3logo.ipynb\" target=\"_parent\"><img src=\"https://colab.research.google.com/assets/colab-badge.svg\" alt=\"Open In Colab\"/></a>"
      ]
    },
    {
      "cell_type": "markdown",
      "source": [
        "# PAE - BMAT"
      ],
      "metadata": {
        "id": "4h7Pf_9CMs0H"
      }
    },
    {
      "cell_type": "code",
      "source": [
        "!pip install openai>=1.14 gradio --quiet"
      ],
      "metadata": {
        "id": "ibQ0e9NhAd29"
      },
      "execution_count": null,
      "outputs": []
    },
    {
      "cell_type": "code",
      "source": [
        "# 2. Cargar la clave desde los secretos\n",
        "from google.colab import userdata\n",
        "import os\n",
        "KEY = userdata.get(\"OPENAI_API_KEY\")\n"
      ],
      "metadata": {
        "id": "sGoE6sOfsY5j"
      },
      "execution_count": null,
      "outputs": []
    },
    {
      "cell_type": "code",
      "source": [
        "#Versión de la presentación del prototipo\n",
        "from openai import OpenAI\n",
        "import os\n",
        "\n",
        "client = OpenAI(\n",
        "    base_url=\"https://openrouter.ai/api/v1\",\n",
        "    api_key= KEY\n",
        ")\n",
        "SYSTEM_PROMPT = \"Eres un experto en música. Devuelve el nombre del artista y el nombre de la canción del siguiente título de vídeo de YouTube.\"\n",
        "\n",
        "def musicologo(titulo_video):\n",
        "    try:\n",
        "        response = client.chat.completions.create(\n",
        "            model=\"deepseek/deepseek-r1:free\",\n",
        "            messages=[\n",
        "                {\"role\": \"system\", \"content\": SYSTEM_PROMPT},\n",
        "                {\"role\": \"user\", \"content\": f\"Título del vídeo: {titulo_video}\"}\n",
        "            ],\n",
        "            temperature=0\n",
        "        )\n",
        "        return response.choices[0].message.content.strip()\n",
        "    except Exception as e:\n",
        "        return f\"⚠️ Error: {str(e)}\"\n"
      ],
      "metadata": {
        "id": "hiCAc2yBrWqO"
      },
      "execution_count": null,
      "outputs": []
    },
    {
      "cell_type": "code",
      "source": [
        "import gradio as gr\n",
        "\n",
        "iface = gr.Interface(fn=musicologo,\n",
        "                     inputs=gr.Textbox(label=\"Título del vídeo de YouTube\"),\n",
        "                     outputs=gr.Textbox(label=\"output\"),\n",
        "                     title=\"🎧 Robot Musicólogo con Deepseek\")\n",
        "iface.launch()"
      ],
      "metadata": {
        "colab": {
          "base_uri": "https://localhost:8080/",
          "height": 646
        },
        "id": "Ef5nRlhJm4DZ",
        "outputId": "d9c5df97-db90-4346-e994-682c2f5a8c7e"
      },
      "execution_count": null,
      "outputs": [
        {
          "output_type": "stream",
          "name": "stdout",
          "text": [
            "It looks like you are running Gradio on a hosted a Jupyter notebook. For the Gradio app to work, sharing must be enabled. Automatically setting `share=True` (you can turn this off by setting `share=False` in `launch()` explicitly).\n",
            "\n",
            "Colab notebook detected. To show errors in colab notebook, set debug=True in launch()\n",
            "* Running on public URL: https://6229e7892848a7e69e.gradio.live\n",
            "\n",
            "This share link expires in 1 week. For free permanent hosting and GPU upgrades, run `gradio deploy` from the terminal in the working directory to deploy to Hugging Face Spaces (https://huggingface.co/spaces)\n"
          ]
        },
        {
          "output_type": "display_data",
          "data": {
            "text/plain": [
              "<IPython.core.display.HTML object>"
            ],
            "text/html": [
              "<div><iframe src=\"https://6229e7892848a7e69e.gradio.live\" width=\"100%\" height=\"500\" allow=\"autoplay; camera; microphone; clipboard-read; clipboard-write;\" frameborder=\"0\" allowfullscreen></iframe></div>"
            ]
          },
          "metadata": {}
        },
        {
          "output_type": "execute_result",
          "data": {
            "text/plain": []
          },
          "metadata": {},
          "execution_count": 9
        }
      ]
    },
    {
      "cell_type": "code",
      "source": [
        "#Versión para la presentación final\n",
        "#Versión de la presentación del prototipo\n",
        "'''from openai import OpenAI\n",
        "import os\n",
        "\n",
        "client = OpenAI(\n",
        "    base_url=\"https://openrouter.ai/api/v1\",\n",
        "    api_key= KEY\n",
        ")\n",
        "SYSTEM_PROMPT = \"Eres un experto en música. Devuelve el nombre del artista y el nombre de la canción del siguiente título de vídeo de YouTube.\"\n",
        "\n",
        "def procesar_entradas(text_input, file):\n",
        "    titulos = []\n",
        "\n",
        "    # Si se ha escrito texto\n",
        "    if text_input:\n",
        "        titulos += [line.strip() for line in text_input.split(\"\\n\") if line.strip()]\n",
        "\n",
        "    # Si se ha subido un archivo\n",
        "    if file is not None:\n",
        "        with open(file.name, 'r', encoding='utf-8') as f:\n",
        "            titulos += [line.strip() for line in f if line.strip()]\n",
        "\n",
        "    # Evitar continuar si no hay títulos\n",
        "    if not titulos:\n",
        "        return \"No se han proporcionado títulos para analizar.\"\n",
        "\n",
        "    resultados = []\n",
        "\n",
        "    for titulo in titulos:\n",
        "        try:\n",
        "            response = client.chat.completions.create(\n",
        "                model=\"deepseek/deepseek-r1:free\",\n",
        "                messages=[\n",
        "                    {\"role\": \"system\", \"content\": SYSTEM_PROMPT},\n",
        "                    {\"role\": \"user\", \"content\": f\"Título del vídeo: {titulo}\"}\n",
        "                ],\n",
        "                temperature=0\n",
        "            )\n",
        "            respuesta = response.choices[0].message.content.strip()\n",
        "            resultados.append(f\"Título original: {titulo}\\n{respuesta}\\n\")\n",
        "        except Exception as e:\n",
        "            return f\"⚠️ Error: {str(e)}\"\n",
        "\n",
        "    output_file = \"/content/resultados.txt\"\n",
        "    with open(output_file, \"w\", encoding=\"utf-8\") as out:\n",
        "        out.write(\"\\n\".join(resultados))\n",
        "\n",
        "    return output_file\n"
      ],
      "metadata": {
        "id": "UbtGk6V4wo3C"
      },
      "execution_count": null,
      "outputs": []
    },
    {
      "cell_type": "code",
      "source": [
        "#Versión mejorada con ejecución en paralelo\n",
        "'''from openai import OpenAI\n",
        "import os\n",
        "from concurrent.futures import ThreadPoolExecutor, as_completed\n",
        "\n",
        "client = OpenAI(\n",
        "    base_url=\"https://openrouter.ai/api/v1\",\n",
        "    api_key= KEY\n",
        ")\n",
        "SYSTEM_PROMPT = \"Eres un experto en música. Devuelve el nombre del artista y el nombre de la canción del siguiente título de vídeo de YouTube.\"\n",
        "\n",
        "def procesar_titulo(titulo):\n",
        "  try:\n",
        "    response = client.chat.completions.create(\n",
        "        model=\"deepseek/deepseek-r1:free\",\n",
        "        messages=[\n",
        "            {\"role\": \"system\", \"content\": SYSTEM_PROMPT},\n",
        "            {\"role\": \"user\", \"content\": f\"Título del vídeo: {titulo}\"}\n",
        "        ],\n",
        "        temperature=0\n",
        "    )\n",
        "    respuesta = response.choices[0].message.content.strip()\n",
        "  except Exception as e:\n",
        "    return f\"⚠️ Error: {str(e)}\"\n",
        "  return f\"Título original: {titulo}\\n{respuesta}\\n\"\n",
        "\n",
        "def procesar_entradas(text_input, file):\n",
        "  titulos = []\n",
        "\n",
        "  if text_input:\n",
        "      titulos += [line.strip() for line in text_input.split(\"\\n\") if line.strip()]\n",
        "\n",
        "  if file is not None:\n",
        "      with open(file.name, 'r', encoding='utf-8') as f:\n",
        "          titulos += [line.strip() for line in f if line.strip()]\n",
        "\n",
        "  if not titulos:\n",
        "      return \"No se han proporcionado títulos para analizar.\"\n",
        "\n",
        "  resultados = []\n",
        "  with ThreadPoolExecutor(max_workers=5) as executor:\n",
        "      futuros = [executor.submit(procesar_titulo, titulo) for titulo in titulos]\n",
        "      for future in as_completed(futuros):\n",
        "          resultados.append(future.result())\n",
        "\n",
        "  output_path = \"/content/resultados.txt\"\n",
        "  with open(output_path, \"w\", encoding=\"utf-8\") as f:\n",
        "      f.write(\"\\n\".join(resultados))\n",
        "\n",
        "  return output_path\n"
      ],
      "metadata": {
        "id": "vgRtTJaI0gTH"
      },
      "execution_count": null,
      "outputs": []
    },
    {
      "cell_type": "code",
      "source": [
        "#versión definitiva de un único prompt\n",
        "from openai import OpenAI\n",
        "import os\n",
        "\n",
        "# Inicialización del cliente OpenRouter\n",
        "client = OpenAI(\n",
        "    base_url=\"https://openrouter.ai/api/v1\",\n",
        "    api_key=KEY  # Asegúrate de que KEY esté definido correctamente\n",
        ")\n",
        "\n",
        "# Prompt general para todo el listado\n",
        "SYSTEM_PROMPT = (\n",
        "    \"Eres un experto en música. A continuación se muestra una lista de títulos de vídeos de YouTube. \"\n",
        "    \"Extrae para cada uno el nombre del artista y el nombre de la canción, usando este formato:\\n\\n\"\n",
        "    \"Título: <título original>\\nArtista: <nombre del artista>\\nCanción: <nombre de la canción>\\n\\n\"\n",
        ")\n",
        "\n",
        "def procesar_listado_completo(text_input, file):\n",
        "    titulos = []\n",
        "\n",
        "    if text_input:\n",
        "        titulos += [line.strip() for line in text_input.split(\"\\n\") if line.strip()]\n",
        "\n",
        "    if file is not None:\n",
        "        with open(file.name, 'r', encoding='utf-8') as f:\n",
        "            titulos += [line.strip() for line in f if line.strip()]\n",
        "\n",
        "    if not titulos:\n",
        "        return \"No se han proporcionado títulos para analizar.\"\n",
        "\n",
        "    # Construcción del bloque de entrada\n",
        "    listado = \"\\n\".join(f\"{i+1}. {t}\" for i, t in enumerate(titulos))\n",
        "    user_prompt = f\"Lista de títulos:\\n{listado}\"\n",
        "\n",
        "    try:\n",
        "        response = client.chat.completions.create(\n",
        "            model=\"deepseek/deepseek-r1:free\",\n",
        "            messages=[\n",
        "                {\"role\": \"system\", \"content\": SYSTEM_PROMPT},\n",
        "                {\"role\": \"user\", \"content\": user_prompt}\n",
        "            ],\n",
        "            temperature=0,\n",
        "            max_tokens=2048  # ajusta si hace falta\n",
        "        )\n",
        "        resultado = response.choices[0].message.content.strip()\n",
        "    except Exception as e:\n",
        "        return f\"⚠️ Error: {str(e)}\"\n",
        "\n",
        "    # Guardar en archivo\n",
        "    output_path = \"/content/resultados.txt\"\n",
        "    with open(output_path, \"w\", encoding=\"utf-8\") as f:\n",
        "        f.write(resultado)\n",
        "\n",
        "    return output_path\n"
      ],
      "metadata": {
        "id": "BURFRFTke1pv"
      },
      "execution_count": null,
      "outputs": []
    },
    {
      "cell_type": "code",
      "source": [
        "import gradio as gr\n",
        "\n",
        "iface = gr.Interface(fn=procesar_listado_completo,\n",
        "                     inputs=[\n",
        "                         gr.Textbox(label=\"Introduce títulos manualmente (uno por línea)\", lines=8, placeholder=\"Ej: Adele - Hello\"),\n",
        "                         gr.File(label=\"O sube un archivo .txt con los títulos (uno por línea)\", file_types=[\".txt\"]),\n",
        "                     ],\n",
        "                     outputs=[\n",
        "                         gr.File(label=\"Descargar resultados\"),\n",
        "                     ],\n",
        "                     title=\"🎧 Robot Musicólogo\")\n",
        "iface.launch()"
      ],
      "metadata": {
        "colab": {
          "base_uri": "https://localhost:8080/",
          "height": 626
        },
        "id": "rLgI-Fjv0wRZ",
        "outputId": "6413ca22-23fb-4940-d180-ff775e54975f"
      },
      "execution_count": null,
      "outputs": [
        {
          "output_type": "stream",
          "name": "stdout",
          "text": [
            "It looks like you are running Gradio on a hosted a Jupyter notebook. For the Gradio app to work, sharing must be enabled. Automatically setting `share=True` (you can turn this off by setting `share=False` in `launch()` explicitly).\n",
            "\n",
            "Colab notebook detected. To show errors in colab notebook, set debug=True in launch()\n",
            "* Running on public URL: https://a95cd39c600e6deaba.gradio.live\n",
            "\n",
            "This share link expires in 1 week. For free permanent hosting and GPU upgrades, run `gradio deploy` from the terminal in the working directory to deploy to Hugging Face Spaces (https://huggingface.co/spaces)\n"
          ]
        },
        {
          "output_type": "display_data",
          "data": {
            "text/plain": [
              "<IPython.core.display.HTML object>"
            ],
            "text/html": [
              "<div><iframe src=\"https://a95cd39c600e6deaba.gradio.live\" width=\"100%\" height=\"500\" allow=\"autoplay; camera; microphone; clipboard-read; clipboard-write;\" frameborder=\"0\" allowfullscreen></iframe></div>"
            ]
          },
          "metadata": {}
        },
        {
          "output_type": "execute_result",
          "data": {
            "text/plain": []
          },
          "metadata": {},
          "execution_count": 5
        }
      ]
    }
  ]
}